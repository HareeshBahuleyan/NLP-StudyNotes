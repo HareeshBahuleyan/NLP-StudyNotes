1. concordance - occurance of the argument word in a nltk.text.Text object
2. similar - words similar to the given word
3. common_context - 2 or more words as inputs. Outputs the contexts when the 2 words are used in thhe same fashion
4. dispersion_plot - plot with word on y-axis and location (position(s)) of the word in the text
5. len(text1) - gives the total number of words in the document
6. len(set(text1)) - gives the length of the vocabulary
7. text1.count("word") - count the number of times a the "word" occurs in text1
8. FreqDist - returns the frequency distribution of the words
9. hapaxes - words that occur only once in the entire document
10. collocations - find the most recent bigrams
11. startswith(); endswith()
12. ConditionalFreqDist - input has to be a list of pairs where each pair has the form (condition,event). Usually the condition represents the category

Word Sense Disambiguation
- understand which sense of a word was intended in a given context. Example: serve can be [help with food or drink] or [old an office] or [put ball into play]

Pronoun Resolution
- whom does the pronoun refer to?
	Example:
	a. The thieves stole the paintings. They were subsequently sold.
	b. The thieves stole the paintings. They were subsequently caught.
	c. The thieves stole the paintings. They were subsequently found.
Computational techniques for tackling this problem include anaphora resolution—identifying what a pronoun or noun phrase refers to—and semantic role labeling—identifying how a noun phrase relates to the verb (as agent,
patient, instrument, and so on).

Question Answering

Machine Translation

A lexicon is a collection of words and/or phrases along with associated information.
